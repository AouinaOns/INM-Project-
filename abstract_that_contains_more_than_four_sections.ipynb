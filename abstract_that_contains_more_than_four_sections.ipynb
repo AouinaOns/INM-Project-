{
  "nbformat": 4,
  "nbformat_minor": 0,
  "metadata": {
    "colab": {
      "name": "abstract_that_contains_more_than_four_sections.ipynb",
      "provenance": [],
      "collapsed_sections": []
    },
    "kernelspec": {
      "name": "python3",
      "display_name": "Python 3"
    }
  },
  "cells": [
    {
      "cell_type": "markdown",
      "metadata": {
        "id": "h3K15vt_-GWd",
        "colab_type": "text"
      },
      "source": [
        "#Explication: \n",
        "Ce code permet d'extraire les quatre parties (introduction, méthode, résultats, conclusion) **d'un résumé qui contient plus de quatre** sections. Pour cela nous utiliserons une liste d'étiquettes, pour savoir ou appartient chaque section. cette liste peut être augmentée, le code est disponible.\n",
        "\n",
        "Attention le fichier d'entrée doit être un fichier json à la même structurre que celui dans le code ci-dessous (pour les nouvelles données, vous devez exécuter le code bash \"code_extraction.sh\" + \"xml2json.py\" , pour avoir les données dans ce format Json."
      ]
    },
    {
      "cell_type": "code",
      "metadata": {
        "id": "0ewkMzzz0Qcv",
        "colab_type": "code",
        "colab": {}
      },
      "source": [
        "import pandas as pd\n",
        "df = pd.read_json('all-xml.json')\n",
        "\n",
        "introduction_list = []\n",
        "methods_list = []\n",
        "results_list = []\n",
        "conclusions_list = []\n",
        "pmid_list = []\n",
        "tab = []"
      ],
      "execution_count": null,
      "outputs": []
    },
    {
      "cell_type": "markdown",
      "metadata": {
        "id": "n8KJ2V_O_-Zw",
        "colab_type": "text"
      },
      "source": [
        "### liste des étiquettes"
      ]
    },
    {
      "cell_type": "code",
      "metadata": {
        "id": "ely3zX0SbMtr",
        "colab_type": "code",
        "colab": {}
      },
      "source": [
        "\n",
        "#TRIAL REGISTRATION, CLINICALTRIAL,TRIAL REGISTRATION INFORMATION,NETHERLANDS TRIAL REGISTER + TRIAL REGISTRATION + CLINICAL TRIAL REGISTRATION + Conclus\\u00e3o + FUNDING + => à éliminer \n",
        "liste_introduction =['IMPORTANCE','BACKGROUND:','AIM:','PURPOSE/OBJECTIVES','PURPOSE', 'INTRODUCTION','BACKGROUND','OBJECTIVE','SUMMARY BACKGROUND DATA','AIM OF THE STUDY','BACKGROUND','Background','HYPOTHESIS','Objective','AIM','AIMS','BACKGROUND &amp','AIMS AND OBJECTIVES','HYPOTHESES','STUDY OBJECTIVE','PURPOSES/OBJECTIVES','RESEARCH QUESTION','WHAT IS ALREADY KNOWN ABOUT THIS SUBJECT','CONTEXT','CONTEXT AND OBJECTIVE','STUDY OBJECTIVES','OBJECTIVES','BACKGROUND AND OBJECTIVES','OBJECT','Background']\n",
        "liste_methods = ['OUTCOME MEASURES','SUBJECT','METHOD:','MAIN OUTCOMES AND MEASURES','MAIN OUTCOME MEASURE','MAIN OUTCOME MEASURES','MEASURE','SAMPLE','METHODOLOGY','SETTING','OUTCOME MEASURE','MAIN OUTCOME MEASURE(S)','METHODS','PARTICIPANTS AND SETTING','RESEARCH DESIGN','DESIGN, PARTICIPANTS AND INTERVENTIONS','DESIGN AND SETTING','THEORETICAL FRAMEWORK','SCOPE','SETTING/LOCATION','TARGET POPULATION','SUBJECTS AND METHODS','DESIGN AND METHOD','CONTROL GROUP','POPULATION','PARTICIPANTS','MAIN RESEARCH VARIABLES','DESIGN, SETTING, AND PATIENTS','SETTINGS','MATERIALS AND METHODS','MATERIAL AND METHODS','OUTCOME MEASUREMENTS AND STATISTICAL ANALYSIS','STATISTICAL ANALYSIS USED','PATIENTS AND METHOD','DESIGN OF STUDY','DESIGN AND METHODS','SUBJECTS/PATIENTS','ANALYSIS','MEASUREMENTS','PARTICIPANTS/METHODS','PATIENT SUMMARY','METHOD','STATISTICAL ANALYSES','VARIABLES','INTERVENTIONS/METHODS','Subjects','Participants','PATIENTS AND METHODS', \"DESIGN, SETTING, AND PARTICIPANTS\",'DESIGN', 'SETTING', 'PARTICIPANTS AND INTERVENTIONS','PARTICIPANTS AND METHODS','Design','STUDY DESIGN','PROBANDS','DESIGN AND PARTICIPANTS','SETTING/PARTICIPANTS','STATISTICAL ANALYSES PERFORMED','SETTINGS/LOCATION','Settings','PATIENT CHARACTERISTICS','RESEARCH DESIGN','MEASUREMENT','SUBJECTS','INTERVENTION(S)','MAIN MEASURES','PLACE AND DURATION OF STUDY','INTERVENTION','DESIGN','Setting','Intervention','PARTICIPANTS/SETTING','PATIENTS','SETTING AND DESIGN','MAIN MEASURE','Methods','INTERVENTION/METHODS','DESIGN/SETTING','Measurements','METHOD','SETTING AND PARTICIPANTS','INTERVENTIONS','DESIGN AND SUBJECTS','ANALYSES','SUBJECTS/SETTING' ,'PRIMARY OUTCOME']\n",
        "liste_resultats = ['RESULTS:',\"RESULTS\",'RESULTS','Results','MAIN RESULTS','RESULTS OF BASE-CASE ANALYSIS','MEASUREMENTS AND RESULTS','FINDINGS','KEY RESULTS','OUTCOMES','RESULTS','RESULTS AND LIMITATIONS','RESULTS OF SENSITIVITY ANALYSIS','SECONDARY OUTCOMES','PRINCIPAL FINDINGS', 'MEASUREMENTS AND MAIN RESULTS','MEASURES']\n",
        "liste_conclusion = ['CONCLUSION:','CLINICAL RELEVANCE','PRACTICE IMPLICATIONS','CONCLUSIONS','CONCLUSION','IMPLICATIONS FOR NURSING','CONCLUSIONS AND IMPLICATIONS','RELEVANCE TO CLINICAL PRACTICE','CONCLUSIONS/IMPLICATIONS FOR PRACTICE','PRACTICE IMPLICATIONS','ELIGIBILITY','IMPLICATIONS FOR PRACTICE','IMPACT','INTERPRETATION','WHAT THIS STUDY ADDS','PERSPECTIVE','APPLICATIONS','DISCUSSION/CONCLUSIONS','IMPLICATION','IMPLICATIONS','IMPLICATIONS FOR CANCER SURVIVORS','Limitation','LIMITATIONS','Conclusion','PRACTICE IMPLICATION','SPONSORSHIP','CONCLUSION','APPLICATION','Discussion','CONCLUSION AND RELEVANCE','IMPLICATIONS FOR RESEARCH AND PRACTICE','APPLICATIONS/CONCLUSIONS','CONCLUSIONS AND RELEVANCE','KNOWLEDGE TRANSLATION','Conclusions','DISCUSSION','RELEVANCE','CLINICAL REHABILITATION IMPACT','IMPLICATIONS FOR NURSING PRACTICE']\n",
        "\n"
      ],
      "execution_count": null,
      "outputs": []
    },
    {
      "cell_type": "code",
      "metadata": {
        "id": "te49Q2Xuc7hi",
        "colab_type": "code",
        "colab": {}
      },
      "source": [
        "for i in range(df['pre'].shape[0]):\n",
        "  if 'Abstract' in df['pre'][i]['PubmedArticle']['MedlineCitation']['Article']:\n",
        "    if type(df['pre'][i]['PubmedArticle']['MedlineCitation']['Article']['Abstract']['AbstractText']) is list:# on verifie si c'est une liste  \n",
        "      if len(df['pre'][i]['PubmedArticle']['MedlineCitation']['Article']['Abstract']['AbstractText'])>4:\n",
        "        intro=''\n",
        "        meth=''\n",
        "        resul=''\n",
        "        conc=''\n",
        "        if all( type(abc) is dict for abc in df['pre'][i]['PubmedArticle']['MedlineCitation']['Article']['Abstract']['AbstractText']):  #to check if all the  list contains only dictionaries\n",
        "          for j in range(len(df['pre'][i]['PubmedArticle']['MedlineCitation']['Article']['Abstract']['AbstractText'])):\n",
        "            label = ''\n",
        "            psc = ''\n",
        "            if type(df['pre'][i]['PubmedArticle']['MedlineCitation']['Article']['Abstract']['AbstractText'][j]) is dict: #si cest une dictionnaire parfois cest juste un str\n",
        "              if '@Label' in df['pre'][i]['PubmedArticle']['MedlineCitation']['Article']['Abstract']['AbstractText'][j]:\n",
        "                label = df['pre'][i]['PubmedArticle']['MedlineCitation']['Article']['Abstract']['AbstractText'][j]['@Label']\n",
        "                if '#text' in  df['pre'][i]['PubmedArticle']['MedlineCitation']['Article']['Abstract']['AbstractText'][j]:              \n",
        "                  psc = df['pre'][i]['PubmedArticle']['MedlineCitation']['Article']['Abstract']['AbstractText'][j]['#text'] \n",
        "                  if psc:  \n",
        "                    if label in liste_introduction:\n",
        "                      intro = intro + str(psc)\n",
        "                    if label in liste_methods:\n",
        "                      meth = meth + str(psc)\n",
        "                    if label in liste_resultats:\n",
        "                      resul = resul + str(psc)\n",
        "                    if label in liste_conclusion:\n",
        "                      conc = conc + str(psc)\n",
        "          \n",
        "            \n",
        "          if intro and meth and resul and conc:\n",
        "            introduction_list.append(intro) \n",
        "            methods_list.append(meth)\n",
        "            results_list.append(resul)\n",
        "            conclusions_list.append(conc)\n",
        "\n",
        "            pmid = df['pre'][i]['PubmedArticle']['MedlineCitation']['PMID']['#text']\n",
        "            pmid_list.append(pmid)\n",
        "          else:\n",
        "            tab.append(pmid)"
      ],
      "execution_count": null,
      "outputs": []
    },
    {
      "cell_type": "code",
      "metadata": {
        "id": "IjE5P9Z2j0Bt",
        "colab_type": "code",
        "colab": {}
      },
      "source": [
        "pmid_df = pd.DataFrame(pmid_list,columns=['pmid'])"
      ],
      "execution_count": null,
      "outputs": []
    },
    {
      "cell_type": "code",
      "metadata": {
        "id": "tUGSw0aKj1Ek",
        "colab_type": "code",
        "colab": {}
      },
      "source": [
        "intro_df = pd.DataFrame(introduction_list,columns=['introduction'])"
      ],
      "execution_count": null,
      "outputs": []
    },
    {
      "cell_type": "code",
      "metadata": {
        "id": "RngoNzJ6j4FR",
        "colab_type": "code",
        "colab": {}
      },
      "source": [
        "metho_df = pd.DataFrame(methods_list,columns=['methods'])"
      ],
      "execution_count": null,
      "outputs": []
    },
    {
      "cell_type": "code",
      "metadata": {
        "id": "QQ_4nhgvj6sQ",
        "colab_type": "code",
        "colab": {}
      },
      "source": [
        "resul_df = pd.DataFrame(results_list,columns=['resultats'])"
      ],
      "execution_count": null,
      "outputs": []
    },
    {
      "cell_type": "code",
      "metadata": {
        "id": "ZP2aObz2j9AR",
        "colab_type": "code",
        "colab": {}
      },
      "source": [
        "conc_df = pd.DataFrame(conclusions_list,columns=['conclusion'])"
      ],
      "execution_count": null,
      "outputs": []
    },
    {
      "cell_type": "code",
      "metadata": {
        "id": "BqTxP7kkkAow",
        "colab_type": "code",
        "colab": {}
      },
      "source": [
        "result = pd.concat([pmid_df, intro_df, metho_df, resul_df, conc_df], axis=1, sort=False)"
      ],
      "execution_count": null,
      "outputs": []
    },
    {
      "cell_type": "code",
      "metadata": {
        "id": "TFMYKo5akC3h",
        "colab_type": "code",
        "colab": {}
      },
      "source": [
        "result.to_csv('Abstract_devided_for_long_text.csv')"
      ],
      "execution_count": null,
      "outputs": []
    }
  ]
}