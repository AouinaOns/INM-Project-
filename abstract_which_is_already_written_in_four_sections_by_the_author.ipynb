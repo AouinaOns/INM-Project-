{
  "nbformat": 4,
  "nbformat_minor": 0,
  "metadata": {
    "colab": {
      "name": "abstract_which_is_already_written_in_four_sections_by_the_author.ipynb",
      "provenance": [],
      "collapsed_sections": []
    },
    "kernelspec": {
      "name": "python3",
      "display_name": "Python 3"
    }
  },
  "cells": [
    {
      "cell_type": "markdown",
      "metadata": {
        "id": "vuEpgZvu4jAo",
        "colab_type": "text"
      },
      "source": [
        "#Explication :\n",
        "Ce code permet d'extraire les quatres parties ( introduction , méthode, résultas , conclusion) d'un résumé qui est déja rédigé en quatres sections par l'auteur.\n",
        "\n",
        "**Attention** le fichier d'entrée doit être un fichier json à la même structurre que celui dans le code ci-dessous (pour les nouvelles données, vous devez exécuter le code bash \"code_extraction.sh\" + \"xml2json.py\" , pour avoir les données dans ce format Json."
      ]
    },
    {
      "cell_type": "code",
      "metadata": {
        "id": "u4RZ8xC2kXhe",
        "colab_type": "code",
        "colab": {}
      },
      "source": [
        "import pandas as pd\n",
        "df = pd.read_json('all-xml.json')"
      ],
      "execution_count": null,
      "outputs": []
    },
    {
      "cell_type": "code",
      "metadata": {
        "id": "TEXZhx-bitm9",
        "colab_type": "code",
        "colab": {}
      },
      "source": [
        "pmid_list = []\n",
        "title_list = []\n",
        "keywords_list = []\n",
        "final_abstract_list = []\n",
        "final_text = ''\n",
        "introduction_list = []\n",
        "methods_list = []\n",
        "results_list = []\n",
        "conclusions_list = []\n",
        "tmp = 0\n",
        "liste_des_labels = []\n"
      ],
      "execution_count": null,
      "outputs": []
    },
    {
      "cell_type": "code",
      "metadata": {
        "id": "jVI1BURs7eVY",
        "colab_type": "code",
        "colab": {}
      },
      "source": [
        " \n",
        "for i in range(df['pre'].shape[0]):\n",
        "  if 'Abstract' in df['pre'][i]['PubmedArticle']['MedlineCitation']['Article']:\n",
        "    if type(df['pre'][i]['PubmedArticle']['MedlineCitation']['Article']['Abstract']['AbstractText']) is list:# on verifie si c'est une liste  \n",
        "      if len(df['pre'][i]['PubmedArticle']['MedlineCitation']['Article']['Abstract']['AbstractText'])==4:\n",
        "        tmp = tmp +1       \n",
        "        for j in range(len(df['pre'][i]['PubmedArticle']['MedlineCitation']['Article']['Abstract']['AbstractText'])):                 \n",
        "          psc = ''\n",
        "          if type(df['pre'][i]['PubmedArticle']['MedlineCitation']['Article']['Abstract']['AbstractText'][j]) is dict: #si cest une dictionnaire parfois cest juste un str\n",
        "            if '@Label' in df['pre'][i]['PubmedArticle']['MedlineCitation']['Article']['Abstract']['AbstractText'][j]:\n",
        "              if '#text' in  df['pre'][i]['PubmedArticle']['MedlineCitation']['Article']['Abstract']['AbstractText'][j]:              \n",
        "                psc = df['pre'][i]['PubmedArticle']['MedlineCitation']['Article']['Abstract']['AbstractText'][j]['#text'] \n",
        "                intro = ''\n",
        "                meth = ''\n",
        "                resul = ''\n",
        "                conc = ''\n",
        "\n",
        "                if psc != \"\":\n",
        "                  if j==0:\n",
        "                    intro = df['pre'][i]['PubmedArticle']['MedlineCitation']['Article']['Abstract']['AbstractText'][j]['#text']\n",
        "                    introduction_list.append(intro)\n",
        "                  elif j==1:\n",
        "                    meth = df['pre'][i]['PubmedArticle']['MedlineCitation']['Article']['Abstract']['AbstractText'][j]['#text']\n",
        "                    methods_list.append(meth)\n",
        "                  elif j==2:\n",
        "                    resul = df['pre'][i]['PubmedArticle']['MedlineCitation']['Article']['Abstract']['AbstractText'][j]['#text']\n",
        "                    results_list.append(resul)\n",
        "                  else:\n",
        "                    conc = df['pre'][i]['PubmedArticle']['MedlineCitation']['Article']['Abstract']['AbstractText'][j]['#text']\n",
        "                    conclusions_list.append(conc)\n",
        "\n",
        "\n",
        "        pmid = df['pre'][i]['PubmedArticle']['MedlineCitation']['PMID']['#text']\n",
        "        pmid_list.append(pmid)"
      ],
      "execution_count": null,
      "outputs": []
    },
    {
      "cell_type": "code",
      "metadata": {
        "id": "wOV2Obwv7hLu",
        "colab_type": "code",
        "colab": {}
      },
      "source": [
        "print('tmp : ', tmp)\n",
        "print('introduction_list : ' ,len(introduction_list))\n",
        "print('conclusions_list : ' ,len(conclusions_list))\n",
        "print('results_list : ' ,len(results_list))\n",
        "print('methods_list : ' ,len(methods_list))\n",
        "print('nb pmid  : ', len(pmid_list))\n"
      ],
      "execution_count": null,
      "outputs": []
    },
    {
      "cell_type": "code",
      "metadata": {
        "id": "4lNooRVU7jtY",
        "colab_type": "code",
        "colab": {}
      },
      "source": [
        "pmid_df = pd.DataFrame(pmid_list,columns=['pmid'])\n",
        "intro_df = pd.DataFrame(introduction_list,columns=['introduction'])\n",
        "metho_df = pd.DataFrame(methods_list,columns=['methods'])\n",
        "resul_df = pd.DataFrame(results_list,columns=['resultats'])\n",
        "conc_df = pd.DataFrame(conclusions_list,columns=['conclusion'])\n",
        "result = pd.concat([pmid_df, intro_df, metho_df, resul_df, conc_df], axis=1, sort=False)"
      ],
      "execution_count": null,
      "outputs": []
    },
    {
      "cell_type": "code",
      "metadata": {
        "id": "gcA4hamL7xjf",
        "colab_type": "code",
        "colab": {}
      },
      "source": [
        "result.to_csv('Abs4Parties_decoupees.csv')"
      ],
      "execution_count": null,
      "outputs": []
    }
  ]
}